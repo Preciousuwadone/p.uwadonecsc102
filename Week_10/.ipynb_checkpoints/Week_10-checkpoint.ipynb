{
 "cells": [
  {
   "cell_type": "code",
   "execution_count": null,
   "id": "2513d63d",
   "metadata": {},
   "outputs": [],
   "source": [
    "class Orange:\n",
    "    def __init__(self, price, stock):\n",
    "        self.price = price\n",
    "        self.stock = stock\n",
    "        \n",
    "class customer:\n",
    "    def __init__(self,price,orange):\n",
    "        self.name = name\n",
    "        self.orange = orange\n",
    "        \n",
    "    def buy_oranges(self,quantity):\n",
    "        if quantity == self.orange.stock:\n",
    "            self.orange.stock = quantity\n",
    "            cost = quantity * 5\n",
    "            print(f\"Thank you for your purchase, {self.name}! Your total cost is {cost}.\")\n",
    "        else:\n",
    "            print(f\"Sorry, {self.name}. We only have {self.orange.stock} oranges in stock. Please select a quantity less than or equal to {self.orange.stock}.\")\n",
    "\n",
    "# create an Orange object with a price of 5 and a stock of 50\n",
    "orange = Orange(5, 7)\n",
    "\n",
    "name = input(\" What is your name?\")\n",
    "customer = Customer(name, orange)\n",
    "\n",
    "quantity = input(\"How many oranges do you want to buy?\")\n",
    "customer.buy_oranges(orange.price)"
   ]
  },
  {
   "cell_type": "code",
   "execution_count": null,
   "id": "f7dc5554",
   "metadata": {},
   "outputs": [],
   "source": [
    "class calculation:\n",
    "    def trapezium formula(self, height, base1, base2):\n",
    "        self.height = height\n",
    "        self.base1 = base1\n",
    "        self.base2 = base2\n",
    "      A = (self.height)/2 * (self.base1 + self.base2)\n",
    "    def rhombus formula(self,diagonal1,diagonal2):\n",
    "        self.diagonal1 = diagonal1\n",
    "        self.diagonal2 = diagonal2\n",
    "     return (self.diagonal1 *self.diagonal2)/2\n",
    "    def parallelogram formula(self,base,altitude):\n",
    "        self.base = base\n",
    "        self.altitude = altitude\n",
    "     return self.base * self.altitude\n",
    "    def cube formula(self,length):\n",
    "        self.length = length\n",
    "        return 6 * length **2\n",
    "    def volume of cylinder formula(self,radius,height):\n",
    "        self.radius = radius\n",
    "        self.height = height\n",
    "     return 3.14*radius**2*height\n",
    "print(\"Calculation of various equation\")\n",
    "print(\"A.Area of trapezium formula\")\n",
    "print(\"B.Area of rhombus formula\")\n",
    "print(\"C.Area of parallelogram\")\n",
    "print(\"D.Area of cube formula\")\n",
    "print(\"E.Volume of cylinder\")\n",
    "input(\"Type the letter before the formula that you aim to calculate\")\n",
    "\n"
   ]
  },
  {
   "cell_type": "code",
   "execution_count": 1,
   "id": "ac4e984f",
   "metadata": {},
   "outputs": [
    {
     "ename": "TypeError",
     "evalue": "Drink.__init__() takes 4 positional arguments but 5 were given",
     "output_type": "error",
     "traceback": [
      "\u001b[1;31m---------------------------------------------------------------------------\u001b[0m",
      "\u001b[1;31mTypeError\u001b[0m                                 Traceback (most recent call last)",
      "Cell \u001b[1;32mIn[1], line 15\u001b[0m\n\u001b[0;32m     12\u001b[0m             writer\u001b[38;5;241m.\u001b[39mwriterow([\u001b[38;5;28mself\u001b[39m\u001b[38;5;241m.\u001b[39mname, \u001b[38;5;28mself\u001b[39m\u001b[38;5;241m.\u001b[39mdrink_type, \u001b[38;5;28mself\u001b[39m\u001b[38;5;241m.\u001b[39mnon_alcoholic])\n\u001b[0;32m     14\u001b[0m \u001b[38;5;66;03m# Create Drink objects\u001b[39;00m\n\u001b[1;32m---> 15\u001b[0m lager \u001b[38;5;241m=\u001b[39m \u001b[43mDrink\u001b[49m\u001b[43m(\u001b[49m\u001b[38;5;124;43m\"\u001b[39;49m\u001b[38;5;124;43m33 Export\u001b[39;49m\u001b[38;5;124;43m\"\u001b[39;49m\u001b[43m,\u001b[49m\u001b[43m \u001b[49m\u001b[38;5;124;43m\"\u001b[39;49m\u001b[38;5;124;43mdesperados\u001b[39;49m\u001b[38;5;124;43m\"\u001b[39;49m\u001b[43m,\u001b[49m\u001b[43m \u001b[49m\u001b[38;5;124;43m\"\u001b[39;49m\u001b[38;5;124;43mGoldberg\u001b[39;49m\u001b[38;5;124;43m\"\u001b[39;49m\u001b[43m,\u001b[49m\u001b[43m \u001b[49m\u001b[38;5;28;43;01mTrue\u001b[39;49;00m\u001b[43m)\u001b[49m\n\u001b[0;32m     16\u001b[0m stout \u001b[38;5;241m=\u001b[39m Drink(\u001b[38;5;124m\"\u001b[39m\u001b[38;5;124mlegend\u001b[39m\u001b[38;5;124m\"\u001b[39m, \u001b[38;5;124m\"\u001b[39m\u001b[38;5;124mturbo king\u001b[39m\u001b[38;5;124m\"\u001b[39m, \u001b[38;5;124m\"\u001b[39m\u001b[38;5;124mWilliams\u001b[39m\u001b[38;5;124m\"\u001b[39m, \u001b[38;5;28;01mTrue\u001b[39;00m)\n\u001b[0;32m     17\u001b[0m non_alcoholic \u001b[38;5;241m=\u001b[39m Drink(\u001b[38;5;124m\"\u001b[39m\u001b[38;5;124mmaltina\u001b[39m\u001b[38;5;124m\"\u001b[39m, \u001b[38;5;124m\"\u001b[39m\u001b[38;5;124mamstel\u001b[39m\u001b[38;5;124m\"\u001b[39m, \u001b[38;5;124m\"\u001b[39m\u001b[38;5;124mfayrouz\u001b[39m\u001b[38;5;124m\"\u001b[39m, \u001b[38;5;28;01mTrue\u001b[39;00m)\n",
      "\u001b[1;31mTypeError\u001b[0m: Drink.__init__() takes 4 positional arguments but 5 were given"
     ]
    }
   ],
   "source": [
    "import csv\n",
    "\n",
    "class Drink:\n",
    "    def __init__(self, name, drink_type, nonalcoholic):\n",
    "        self.name = name\n",
    "        self.drink_type = drink_type\n",
    "        self.non_alcoholic = non_alcoholic\n",
    "\n",
    "    def save_to_csv(self, file_name):\n",
    "        with open(file_name, 'a', newline='') as csvfile:\n",
    "            writer = csv.writer(csvfile)\n",
    "            writer.writerow([self.name, self.drink_type, self.non_alcoholic])\n",
    "\n",
    "# Create Drink objects\n",
    "lager = Drink(\"33 Export\", \"desperados\", \"Goldberg\", True)\n",
    "stout = Drink(\"legend\", \"turbo king\", \"Williams\", True)\n",
    "non_alcoholic = Drink(\"maltina\", \"amstel\", \"fayrouz\", True)\n",
    "\n",
    "\n",
    "# Save Drink objects to .csv file\n",
    "file_name = \"drink_categories.csv\"\n",
    "with open(file_name, 'w', newline='') as csvfile:\n",
    "    writer = csv.writer(csvfile)\n",
    "    writer.writerow(['Name', 'Type', 'Alcoholic'])\n",
    "\n",
    "lager.save_to_csv(file_name)\n",
    "stout.save_to_csv(file_name)\n",
    "non_alcoholic.save_to_csv(file_name)\n"
   ]
  },
  {
   "cell_type": "code",
   "execution_count": null,
   "id": "19a76a94",
   "metadata": {},
   "outputs": [],
   "source": []
  }
 ],
 "metadata": {
  "kernelspec": {
   "display_name": "Python 3 (ipykernel)",
   "language": "python",
   "name": "python3"
  },
  "language_info": {
   "codemirror_mode": {
    "name": "ipython",
    "version": 3
   },
   "file_extension": ".py",
   "mimetype": "text/x-python",
   "name": "python",
   "nbconvert_exporter": "python",
   "pygments_lexer": "ipython3",
   "version": "3.10.9"
  }
 },
 "nbformat": 4,
 "nbformat_minor": 5
}
